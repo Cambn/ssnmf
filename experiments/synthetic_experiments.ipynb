{
 "cells": [
  {
   "cell_type": "code",
   "execution_count": 15,
   "metadata": {},
   "outputs": [],
   "source": [
    "import ssnmf as ssnmf\n",
    "from ssnmf import SSNMF\n",
    "import numpy as np\n",
    "import scipy\n",
    "import scipy.sparse as sparse\n",
    "import copy\n",
    "import random\n",
    "import time"
   ]
  },
  {
   "cell_type": "code",
   "execution_count": 16,
   "metadata": {},
   "outputs": [],
   "source": [
    "#trial info\n",
    "M = 1 ################################# just a test\n",
    "#M = 10  #number of trials\n",
    "N = 10 ################################ just a test\n",
    "#N = 1000 #max number of iterations\n",
    "\n",
    "seedval = 777\n",
    "#keep track of elapsed time\n",
    "start = time.time()"
   ]
  },
  {
   "cell_type": "code",
   "execution_count": 17,
   "metadata": {},
   "outputs": [],
   "source": [
    "#generate factor matrices (these are latent signal throughout all experiments)\n",
    "n1 = 500\n",
    "n2 = 500\n",
    "r = 5\n",
    "k = 500\n",
    "random.seed(seedval)\n",
    "S = sparse.random(r,n2,density=0.5).toarray()\n",
    "np.random.seed(seedval)\n",
    "A = np.random.rand(n1,r)\n",
    "random.seed(seedval)\n",
    "B = sparse.random(k,r,density=0.5).toarray()"
   ]
  },
  {
   "cell_type": "code",
   "execution_count": 18,
   "metadata": {},
   "outputs": [],
   "source": [
    "#initialize results arrays\n",
    "results1 = np.zeros(4) #experiment 1\n",
    "results2 = np.zeros(4) #experiment 2\n",
    "results3 = np.zeros(4) #experiment 3\n",
    "results4 = np.zeros(4) #experiment 4"
   ]
  },
  {
   "cell_type": "markdown",
   "metadata": {},
   "source": [
    "# Gaussian Uncertainty"
   ]
  },
  {
   "cell_type": "code",
   "execution_count": 19,
   "metadata": {},
   "outputs": [],
   "source": [
    "#generate X and Y with Gaussian uncertainty (as determined by lambda in paper)\n",
    "Xmean = A @ S\n",
    "lam=1\n",
    "Ymean = B @ S\n",
    "np.random.seed(seedval)\n",
    "X = abs(Xmean + np.random.normal(0,1,(n1,n2)))\n",
    "np.random.seed(seedval)\n",
    "Y = abs(Ymean + np.random.normal(0,np.sqrt(1/lam),(k,n2)))"
   ]
  },
  {
   "cell_type": "code",
   "execution_count": 20,
   "metadata": {},
   "outputs": [],
   "source": [
    "#initialize results\n",
    "relerrs3 = np.zeros(M)\n",
    "relerrs4 = np.zeros(M)\n",
    "relerrs5 = np.zeros(M)\n",
    "relerrs6 = np.zeros(M)"
   ]
  },
  {
   "cell_type": "code",
   "execution_count": 21,
   "metadata": {},
   "outputs": [],
   "source": [
    "#run trials of SSNMF models\n",
    "for i in range(M):\n",
    "    #generate (seeded) initial iterates for all methods\n",
    "    np.random.seed(i)\n",
    "    A0 = np.random.rand(n1, r)\n",
    "    np.random.seed(i+M)\n",
    "    B0 = np.random.rand(k,r)\n",
    "    np.random.seed(i+2*M)\n",
    "    S0 = np.random.rand(r, n2)\n",
    "    \n",
    "    #initialize model (we make copies for each SSNMF model)\n",
    "    model = SSNMF(X,r,Y = Y,lam=lam,tol=1e-14,A=A0,B=B0,S=S0)\n",
    "    X0 = model.A @ model.S\n",
    "    Y0 = model.B @ model.S\n",
    "    \n",
    "    #copy model for each type of SSNMF and run multiplicative updates\n",
    "    model_3 = copy.deepcopy(model)\n",
    "    model_3.modelNum = 3\n",
    "    model_3.mult(numiters = N,saveerrs = False, eps = 1e-14)\n",
    "    \n",
    "    model_4 = copy.deepcopy(model)\n",
    "    model_4.modelNum = 4\n",
    "    model_4.mult(numiters = N,saveerrs = False, eps = 1e-14)\n",
    "    \n",
    "    model_5 = copy.deepcopy(model)\n",
    "    model_5.modelNum = 5\n",
    "    model_5.mult(numiters = N,saveerrs = False, eps = 1e-14)\n",
    "    \n",
    "    model_6 = copy.deepcopy(model)\n",
    "    model_6.modelNum = 6\n",
    "    model_6.mult(numiters = N,saveerrs = False, eps = 1e-14)\n",
    "    \n",
    "    #collect metrics\n",
    "    relerrs3[i] = (np.linalg.norm(Xmean - model_3.A @ model_3.S)**2 + lam*np.linalg.norm(Ymean - model_3.B @ model_3.S)**2)/(np.linalg.norm(Xmean - X0)**2 + lam*np.linalg.norm(Ymean - Y0)**2)\n",
    "    relerrs4[i] = (np.linalg.norm(Xmean - model_4.A @ model_4.S)**2 + lam*np.linalg.norm(Ymean - model_4.B @ model_4.S)**2)/(np.linalg.norm(Xmean - X0)**2 + lam*np.linalg.norm(Ymean - Y0)**2)\n",
    "    relerrs5[i] = (np.linalg.norm(Xmean - model_5.A @ model_5.S)**2 + lam*np.linalg.norm(Ymean - model_5.B @ model_5.S)**2)/(np.linalg.norm(Xmean - X0)**2 + lam*np.linalg.norm(Ymean - Y0)**2)\n",
    "    relerrs6[i] = (np.linalg.norm(Xmean - model_6.A @ model_6.S)**2 + lam*np.linalg.norm(Ymean - model_6.B @ model_6.S)**2)/(np.linalg.norm(Xmean - X0)**2 + lam*np.linalg.norm(Ymean - Y0)**2)"
   ]
  },
  {
   "cell_type": "code",
   "execution_count": 22,
   "metadata": {},
   "outputs": [],
   "source": [
    "#save results (mean of relative errors over trials)\n",
    "results1[0] = np.mean(relerrs3)\n",
    "results1[1] = np.mean(relerrs4)\n",
    "results1[2] = np.mean(relerrs5)\n",
    "results1[3] = np.mean(relerrs6)"
   ]
  },
  {
   "cell_type": "markdown",
   "metadata": {},
   "source": [
    "# Gaussian and Poisson Uncertainty"
   ]
  },
  {
   "cell_type": "code",
   "execution_count": 23,
   "metadata": {},
   "outputs": [],
   "source": [
    "#generate X and Y with Gaussian and Poisson uncertainty (as determined by lambda in paper)\n",
    "Xmean = A @ S\n",
    "lam=1\n",
    "Ymean = B @ S\n",
    "np.random.seed(seedval)\n",
    "X = abs(Xmean + np.random.normal(0,lam/(2*k),(n1,n2)))\n",
    "np.random.seed(seedval)\n",
    "Y = np.random.poisson(Ymean,np.shape(Ymean))"
   ]
  },
  {
   "cell_type": "code",
   "execution_count": 24,
   "metadata": {},
   "outputs": [],
   "source": [
    "#initialize results\n",
    "relerrs3 = np.zeros(M)\n",
    "relerrs4 = np.zeros(M)\n",
    "relerrs5 = np.zeros(M)\n",
    "relerrs6 = np.zeros(M)"
   ]
  },
  {
   "cell_type": "code",
   "execution_count": 25,
   "metadata": {},
   "outputs": [],
   "source": [
    "#run trials of SSNMF models\n",
    "for i in range(M):\n",
    "    #generate (seeded) initial iterates for all methods\n",
    "    np.random.seed(i)\n",
    "    A0 = np.random.rand(n1, r)\n",
    "    np.random.seed(i+M)\n",
    "    B0 = np.random.rand(k,r)\n",
    "    np.random.seed(i+2*M)\n",
    "    S0 = np.random.rand(r, n2)\n",
    "    \n",
    "    #initialize model (we make copies for each SSNMF model)\n",
    "    model = SSNMF(X,r,Y = Y,lam=lam,tol=1e-14,A=A0,B=B0,S=S0)\n",
    "    X0 = model.A @ model.S\n",
    "    Y0 = model.B @ model.S\n",
    "    \n",
    "    #copy model for each type of SSNMF and run multiplicative updates\n",
    "    model_3 = copy.deepcopy(model)\n",
    "    model_3.modelNum = 3\n",
    "    model_3.mult(numiters = N,saveerrs = False, eps = 1e-14)\n",
    "    \n",
    "    model_4 = copy.deepcopy(model)\n",
    "    model_4.modelNum = 4\n",
    "    model_4.mult(numiters = N,saveerrs = False, eps = 1e-14)\n",
    "    \n",
    "    model_5 = copy.deepcopy(model)\n",
    "    model_5.modelNum = 5\n",
    "    model_5.mult(numiters = N,saveerrs = False, eps = 1e-14)\n",
    "    \n",
    "    model_6 = copy.deepcopy(model)\n",
    "    model_6.modelNum = 6\n",
    "    model_6.mult(numiters = N,saveerrs = False, eps = 1e-14)\n",
    "    \n",
    "    #collect metrics\n",
    "    relerrs3[i] = (np.linalg.norm(Xmean - model_3.A @ model_3.S)**2 + lam*model_3.Idiv(Ymean, model_3.B,model_3.S,None))/(np.linalg.norm(Xmean - X0)**2 + lam*model_3.Idiv(Ymean, B0,S0,None))\n",
    "    relerrs4[i] = (np.linalg.norm(Xmean - model_4.A @ model_4.S)**2 + lam*model_4.Idiv(Ymean, model_4.B,model_4.S,None))/(np.linalg.norm(Xmean - X0)**2 + lam*model_4.Idiv(Ymean, B0,S0,None))\n",
    "    relerrs5[i] = (np.linalg.norm(Xmean - model_5.A @ model_5.S)**2 + lam*model_5.Idiv(Ymean, model_5.B,model_5.S,None))/(np.linalg.norm(Xmean - X0)**2 + lam*model_5.Idiv(Ymean, B0,S0,None))\n",
    "    relerrs6[i] = (np.linalg.norm(Xmean - model_6.A @ model_6.S)**2 + lam*model_6.Idiv(Ymean, model_6.B,model_6.S,None))/(np.linalg.norm(Xmean - X0)**2 + lam*model_6.Idiv(Ymean, B0,S0,None))"
   ]
  },
  {
   "cell_type": "code",
   "execution_count": 26,
   "metadata": {},
   "outputs": [],
   "source": [
    "#save results (mean of relative errors over trials)\n",
    "results2[0] = np.mean(relerrs3)\n",
    "results2[1] = np.mean(relerrs4)\n",
    "results2[2] = np.mean(relerrs5)\n",
    "results2[3] = np.mean(relerrs6)"
   ]
  },
  {
   "cell_type": "markdown",
   "metadata": {},
   "source": [
    "# Poisson and Gaussian Uncertainty"
   ]
  },
  {
   "cell_type": "code",
   "execution_count": 27,
   "metadata": {},
   "outputs": [],
   "source": [
    "#generate X and Y with Poisson and Gaussian uncertainty (as determined by lambda in paper)\n",
    "Xmean = A @ S\n",
    "lam=1\n",
    "Ymean = B @ S\n",
    "np.random.seed(seedval)\n",
    "Y = abs(Ymean + np.random.normal(0,1/(2*r*lam),(k,n2)))\n",
    "np.random.seed(seedval)\n",
    "X = np.random.poisson(Xmean,np.shape(Xmean))"
   ]
  },
  {
   "cell_type": "code",
   "execution_count": 28,
   "metadata": {},
   "outputs": [],
   "source": [
    "#initialize results\n",
    "relerrs3 = np.zeros(M)\n",
    "relerrs4 = np.zeros(M)\n",
    "relerrs5 = np.zeros(M)\n",
    "relerrs6 = np.zeros(M)"
   ]
  },
  {
   "cell_type": "code",
   "execution_count": 29,
   "metadata": {},
   "outputs": [],
   "source": [
    "#run trials of SSNMF models\n",
    "for i in range(M):\n",
    "    #generate (seeded) initial iterates for all methods\n",
    "    np.random.seed(i)\n",
    "    A0 = np.random.rand(n1, r)\n",
    "    np.random.seed(i+M)\n",
    "    B0 = np.random.rand(k,r)\n",
    "    np.random.seed(i+2*M)\n",
    "    S0 = np.random.rand(r, n2)\n",
    "    \n",
    "    #initialize model (we make copies for each SSNMF model)\n",
    "    model = SSNMF(X,r,Y = Y,lam=lam,tol=1e-10,A=A0,B=B0,S=S0)\n",
    "    X0 = model.A @ model.S\n",
    "    Y0 = model.B @ model.S\n",
    "    \n",
    "    #copy model for each type of SSNMF and run multiplicative updates\n",
    "    model_3 = copy.deepcopy(model)\n",
    "    model_3.modelNum = 3\n",
    "    model_3.mult(numiters = N,saveerrs = False, eps = 1e-14)\n",
    "    \n",
    "    model_4 = copy.deepcopy(model)\n",
    "    model_4.modelNum = 4\n",
    "    model_4.mult(numiters = N,saveerrs = False, eps = 1e-14)\n",
    "    \n",
    "    model_5 = copy.deepcopy(model)\n",
    "    model_5.modelNum = 5\n",
    "    model_5.mult(numiters = N,saveerrs = False, eps = 1e-14)\n",
    "    \n",
    "    model_6 = copy.deepcopy(model)\n",
    "    model_6.modelNum = 6\n",
    "    model_6.mult(numiters = N,saveerrs = False, eps = 1e-14)\n",
    "        \n",
    "    #collect metrics\n",
    "    relerrs3[i] = (model_3.Idiv(Xmean,model_3.A,model_3.S,None) + lam*np.linalg.norm(Ymean - model_3.B @model_3.S)**2)/(model_3.Idiv(Xmean,A0,S0,None) + lam*np.linalg.norm(Ymean-Y0)**2)\n",
    "    relerrs4[i] = (model_4.Idiv(Xmean,model_4.A,model_4.S,None) + lam*np.linalg.norm(Ymean - model_4.B @model_4.S)**2)/(model_4.Idiv(Xmean,A0,S0,None) + lam*np.linalg.norm(Ymean-Y0)**2)\n",
    "    relerrs5[i] = (model_5.Idiv(Xmean,model_5.A,model_5.S,None) + lam*np.linalg.norm(Ymean - model_5.B @model_5.S)**2)/(model_5.Idiv(Xmean,A0,S0,None) + lam*np.linalg.norm(Ymean-Y0)**2)\n",
    "    relerrs6[i] = (model_6.Idiv(Xmean,model_6.A,model_6.S,None) + lam*np.linalg.norm(Ymean - model_6.B @model_6.S)**2)/(model_6.Idiv(Xmean,A0,S0,None) + lam*np.linalg.norm(Ymean-Y0)**2)"
   ]
  },
  {
   "cell_type": "code",
   "execution_count": 30,
   "metadata": {},
   "outputs": [],
   "source": [
    "#save results (mean of relative errors over trials)\n",
    "results3[0] = np.mean(relerrs3)\n",
    "results3[1] = np.mean(relerrs4)\n",
    "results3[2] = np.mean(relerrs5)\n",
    "results3[3] = np.mean(relerrs6)"
   ]
  },
  {
   "cell_type": "markdown",
   "metadata": {},
   "source": [
    "# Poisson Uncertainty"
   ]
  },
  {
   "cell_type": "code",
   "execution_count": 31,
   "metadata": {},
   "outputs": [],
   "source": [
    "#generate X and Y with Poisson uncertainty (as determined in paper, lambda = 1)\n",
    "Xmean = A @ S\n",
    "lam=1\n",
    "Ymean = B @ S\n",
    "np.random.seed(seedval)\n",
    "Y = np.random.poisson(Ymean,np.shape(Ymean))\n",
    "np.random.seed(seedval)\n",
    "X = np.random.poisson(Xmean,np.shape(Xmean))"
   ]
  },
  {
   "cell_type": "code",
   "execution_count": 32,
   "metadata": {},
   "outputs": [],
   "source": [
    "#initialize results\n",
    "relerrs3 = np.zeros(M)\n",
    "relerrs4 = np.zeros(M)\n",
    "relerrs5 = np.zeros(M)\n",
    "relerrs6 = np.zeros(M)"
   ]
  },
  {
   "cell_type": "code",
   "execution_count": 33,
   "metadata": {},
   "outputs": [],
   "source": [
    "#run trials of SSNMF models\n",
    "for i in range(M):\n",
    "    #generate (seeded) initial iterates for all methods\n",
    "    np.random.seed(i)\n",
    "    A0 = np.random.rand(n1, r)\n",
    "    np.random.seed(i+M)\n",
    "    B0 = np.random.rand(k,r)\n",
    "    np.random.seed(i+2*M)\n",
    "    S0 = np.random.rand(r, n2)\n",
    "    \n",
    "    #initialize model (we make copies for each SSNMF model)\n",
    "    model = SSNMF(X,r,Y = Y,lam=lam,tol=1e-14,A=A0,B=B0,S=S0)\n",
    "    X0 = model.A @ model.S\n",
    "    Y0 = model.B @ model.S\n",
    "    \n",
    "    #copy model for each type of SSNMF and run multiplicative updates\n",
    "    model_3 = copy.deepcopy(model)\n",
    "    model_3.modelNum = 3\n",
    "    model_3.mult(numiters = N,saveerrs = False, eps = 1e-14)\n",
    "    \n",
    "    model_4 = copy.deepcopy(model)\n",
    "    model_4.modelNum = 4\n",
    "    model_4.mult(numiters = N,saveerrs = False, eps = 1e-14)\n",
    "    \n",
    "    model_5 = copy.deepcopy(model)\n",
    "    model_5.modelNum = 5\n",
    "    model_5.mult(numiters = N,saveerrs = False, eps = 1e-14)\n",
    "    \n",
    "    model_6 = copy.deepcopy(model)\n",
    "    model_6.modelNum = 6\n",
    "    model_6.mult(numiters = N,saveerrs = False, eps = 1e-14)\n",
    "    \n",
    "    #collect metrics\n",
    "    relerrs3[i] = (model_3.Idiv(Xmean,model_3.A,model_3.S,None) + lam*model_3.Idiv(Ymean,model_3.B,model_3.S,None))/(model_3.Idiv(Xmean,A0,S0,None) + lam*model_3.Idiv(Ymean,B0,S0,None))\n",
    "    relerrs4[i] = (model_4.Idiv(Xmean,model_4.A,model_4.S,None) + lam*model_4.Idiv(Ymean,model_4.B,model_4.S,None))/(model_4.Idiv(Xmean,A0,S0,None) + lam*model_4.Idiv(Ymean,B0,S0,None))\n",
    "    relerrs5[i] = (model_5.Idiv(Xmean,model_5.A,model_5.S,None) + lam*model_5.Idiv(Ymean,model_5.B,model_5.S,None))/(model_5.Idiv(Xmean,A0,S0,None) + lam*model_5.Idiv(Ymean,B0,S0,None))\n",
    "    relerrs6[i] = (model_6.Idiv(Xmean,model_6.A,model_6.S,None) + lam*model_6.Idiv(Ymean,model_6.B,model_6.S,None))/(model_6.Idiv(Xmean,A0,S0,None) + lam*model_6.Idiv(Ymean,B0,S0,None))"
   ]
  },
  {
   "cell_type": "code",
   "execution_count": 34,
   "metadata": {},
   "outputs": [],
   "source": [
    "#save results (mean of relative errors over trials)\n",
    "results4[0] = np.mean(relerrs3)\n",
    "results4[1] = np.mean(relerrs4)\n",
    "results4[2] = np.mean(relerrs5)\n",
    "results4[3] = np.mean(relerrs6)"
   ]
  },
  {
   "cell_type": "markdown",
   "metadata": {},
   "source": [
    "# Results"
   ]
  },
  {
   "cell_type": "code",
   "execution_count": 35,
   "metadata": {},
   "outputs": [
    {
     "name": "stdout",
     "output_type": "stream",
     "text": [
      "                     Fro-Fro-SSNMF        Fro-Div-SSNMF        Div-Fro-SSNMF        Div-Div-SSNMF       \n",
      "Experiment 1 (GG):   0.31040293077704767  0.3143027642983163   0.3186756265456603   0.32060248878961733 \n",
      "Experiment 2 (GP):   0.06996586215066926  0.06874316079621422  0.06947234525929448  0.06761133378586594 \n",
      "Experiment 3 (PG):   0.04806862446363786  0.051006507948554734 0.04635371426023707  0.048004615621966354\n",
      "Experiment 4 (PP):   0.09585677074377905  0.09445644418123003  0.09459483024713347  0.09233338887591122 \n"
     ]
    }
   ],
   "source": [
    "print('{:<20}'.format(''), '{:<20}'.format('Fro-Fro-SSNMF'),'{:<20}'.format('Fro-Div-SSNMF'),'{:<20}'.format('Div-Fro-SSNMF'),'{:<20}'.format('Div-Div-SSNMF'))\n",
    "print('{:<20}'.format('Experiment 1 (GG): '), '{:<20}'.format(results1[0]),'{:<20}'.format(results1[1]),'{:<20}'.format(results1[2]),'{:<20}'.format(results1[3]))\n",
    "print('{:<20}'.format('Experiment 2 (GP): '), '{:<20}'.format(results2[0]),'{:<20}'.format(results2[1]),'{:<20}'.format(results2[2]),'{:<20}'.format(results2[3]))\n",
    "print('{:<20}'.format('Experiment 3 (PG): '), '{:<20}'.format(results3[0]),'{:<20}'.format(results3[1]),'{:<20}'.format(results3[2]),'{:<20}'.format(results3[3]))\n",
    "print('{:<20}'.format('Experiment 4 (PP): '), '{:<20}'.format(results4[0]),'{:<20}'.format(results4[1]),'{:<20}'.format(results4[2]),'{:<20}'.format(results4[3]))\n"
   ]
  },
  {
   "cell_type": "code",
   "execution_count": 36,
   "metadata": {},
   "outputs": [
    {
     "name": "stdout",
     "output_type": "stream",
     "text": [
      "Elapsed time for all trials:  15.640723943710327\n"
     ]
    }
   ],
   "source": [
    "end = time.time()\n",
    "print(\"Elapsed time for all trials: \", end-start)"
   ]
  },
  {
   "cell_type": "code",
   "execution_count": null,
   "metadata": {},
   "outputs": [],
   "source": []
  }
 ],
 "metadata": {
  "kernelspec": {
   "display_name": "Python 3",
   "language": "python",
   "name": "python3"
  },
  "language_info": {
   "codemirror_mode": {
    "name": "ipython",
    "version": 3
   },
   "file_extension": ".py",
   "mimetype": "text/x-python",
   "name": "python",
   "nbconvert_exporter": "python",
   "pygments_lexer": "ipython3",
   "version": "3.8.2"
  }
 },
 "nbformat": 4,
 "nbformat_minor": 2
}
